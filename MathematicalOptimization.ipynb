{
 "cells": [
  {
   "cell_type": "markdown",
   "metadata": {},
   "source": [
    "# Mathematical Optimization"
   ]
  },
  {
   "cell_type": "code",
   "execution_count": 50,
   "metadata": {},
   "outputs": [],
   "source": [
    "# imports\n",
    "import sympy as sp\n",
    "%matplotlib widget\n",
    "sp.init_printing()\n",
    "from sympy.plotting import plot3d\n",
    "import matplotlib.pyplot as plt"
   ]
  },
  {
   "cell_type": "markdown",
   "metadata": {},
   "source": [
    "# simplest case - scaler valued univariate function\n",
    "- have a symbolic relationship between just two things\n",
    "- plan\n",
    "    - take derivitive\n",
    "    - find when derivitive is equal to 0 (will tell us \"flat points\")\n",
    "    - take second derivitive\n",
    "        - eval second derivitive at flat point (this will tell you whether the flat point is a min or a max or none)\n",
    "            - if the evalutaion is positive -> concave up -> min\n",
    "            - if negative -> concave down -> max\n",
    "        - alternatively: evaluate first derivative at the left and right of flat point\n",
    "            - if left is positive and right is negative -> min\n",
    "            - if left is negative and right is positive -> max"
   ]
  },
  {
   "cell_type": "code",
   "execution_count": 51,
   "metadata": {},
   "outputs": [
    {
     "data": {
      "application/vnd.jupyter.widget-view+json": {
       "model_id": "5329cb0140e04e5580846cdf3057814c",
       "version_major": 2,
       "version_minor": 0
      },
      "text/plain": [
       "FigureCanvasNbAgg()"
      ]
     },
     "metadata": {},
     "output_type": "display_data"
    }
   ],
   "source": [
    "x = sp.symbols('x')\n",
    "expr = (x - 5)**2\n",
    "plot = sp.plot(expr)"
   ]
  },
  {
   "cell_type": "code",
   "execution_count": 52,
   "metadata": {},
   "outputs": [
    {
     "data": {
      "image/png": "[encoded data removed]",
      "text/latex": [
       "$$2 x - 10$$"
      ],
      "text/plain": [
       "2⋅x - 10"
      ]
     },
     "execution_count": 52,
     "metadata": {},
     "output_type": "execute_result"
    }
   ],
   "source": [
    "# take derivitive\n",
    "der = expr.diff(x)\n",
    "der"
   ]
  },
  {
   "cell_type": "code",
   "execution_count": 53,
   "metadata": {},
   "outputs": [
    {
     "data": {
      "image/png": "[encoded data removed]",
      "text/latex": [
       "$$\\left\\{5\\right\\}$$"
      ],
      "text/plain": [
       "{5}"
      ]
     },
     "execution_count": 53,
     "metadata": {},
     "output_type": "execute_result"
    }
   ],
   "source": [
    "# set derivitive equal to 0, to find flat points\n",
    "sp.solveset(der)"
   ]
  },
  {
   "cell_type": "code",
   "execution_count": 54,
   "metadata": {},
   "outputs": [
    {
     "data": {
      "image/png": "[encoded data removed]",
      "text/latex": [
       "$$2$$"
      ],
      "text/plain": [
       "2"
      ]
     },
     "execution_count": 54,
     "metadata": {},
     "output_type": "execute_result"
    }
   ],
   "source": [
    "# take second derivitive, evaluate it at flat point, to see if flat pt is min or max\n",
    "der2 = der.diff(x)\n",
    "der2"
   ]
  },
  {
   "cell_type": "markdown",
   "metadata": {},
   "source": [
    "We know at x = 5, we have a flat point. From 2nd der, we know that it is concave up therefore a min. We say that an x of 5 minimizes this function."
   ]
  },
  {
   "cell_type": "markdown",
   "metadata": {},
   "source": [
    "# scaler valued multivariate function"
   ]
  },
  {
   "cell_type": "markdown",
   "metadata": {},
   "source": [
    "- have a relationship between an output and several inputs\n",
    "- what values of inputs will give us the \"best\" output?\n",
    "- plan\n",
    "    - find der w respect to each var\n",
    "        - sometimes this depends values of other variables\n",
    "    - we end up with a bunch of derivitive equations, one w respect to each variable\n",
    "    - we find values of variables that makes all these derivitives equal to 0 (i.e. we find a flat point)\n",
    "    - we do a little thinking to determine if the flat point is a min, max, or something else.\n",
    "        - hint: use concavity test (second derivative test) and if that doesn't give you enough info, try looking at nearby points ;)"
   ]
  },
  {
   "cell_type": "code",
   "execution_count": 55,
   "metadata": {},
   "outputs": [
    {
     "data": {
      "image/png": "[encoded data removed]",
      "text/latex": [
       "$$x^{2} + y^{2}$$"
      ],
      "text/plain": [
       " 2    2\n",
       "x  + y "
      ]
     },
     "execution_count": 55,
     "metadata": {},
     "output_type": "execute_result"
    }
   ],
   "source": [
    "# the relationship\n",
    "x,y,z = sp.symbols('x y z')\n",
    "expr = x**2 + y**2\n",
    "expr\n"
   ]
  },
  {
   "cell_type": "code",
   "execution_count": 56,
   "metadata": {},
   "outputs": [
    {
     "data": {
      "application/vnd.jupyter.widget-view+json": {
       "model_id": "056902df5a6c49c2b32afdd7b059ad71",
       "version_major": 2,
       "version_minor": 0
      },
      "text/plain": [
       "FigureCanvasNbAgg()"
      ]
     },
     "metadata": {},
     "output_type": "display_data"
    },
    {
     "data": {
      "text/plain": [
       "<sympy.plotting.plot.Plot at 0x22dc73845c0>"
      ]
     },
     "execution_count": 56,
     "metadata": {},
     "output_type": "execute_result"
    }
   ],
   "source": [
    "plot3d(expr)"
   ]
  },
  {
   "cell_type": "code",
   "execution_count": 57,
   "metadata": {},
   "outputs": [
    {
     "data": {
      "image/png": "[encoded data removed]",
      "text/latex": [
       "$$2 x$$"
      ],
      "text/plain": [
       "2⋅x"
      ]
     },
     "metadata": {},
     "output_type": "display_data"
    },
    {
     "data": {
      "image/png": "[encoded data removed]",
      "text/latex": [
       "$$2 y$$"
      ],
      "text/plain": [
       "2⋅y"
      ]
     },
     "metadata": {},
     "output_type": "display_data"
    }
   ],
   "source": [
    "# find gradient\n",
    "derx = expr.diff(x)\n",
    "dery = expr.diff(y)\n",
    "display(derx,dery)"
   ]
  },
  {
   "cell_type": "code",
   "execution_count": 58,
   "metadata": {},
   "outputs": [
    {
     "data": {
      "image/png": "[encoded data removed]",
      "text/latex": [
       "$$\\left\\{\\left ( 0, \\quad 0\\right )\\right\\}$$"
      ],
      "text/plain": [
       "{(0, 0)}"
      ]
     },
     "execution_count": 58,
     "metadata": {},
     "output_type": "execute_result"
    }
   ],
   "source": [
    "# solve system of equations\n",
    "sp.linsolve([derx,dery],[x,y])"
   ]
  },
  {
   "cell_type": "code",
   "execution_count": 59,
   "metadata": {},
   "outputs": [
    {
     "data": {
      "image/png": "[encoded data removed]",
      "text/latex": [
       "$$2$$"
      ],
      "text/plain": [
       "2"
      ]
     },
     "metadata": {},
     "output_type": "display_data"
    },
    {
     "data": {
      "image/png": "[encoded data removed]",
      "text/latex": [
       "$$2$$"
      ],
      "text/plain": [
       "2"
      ]
     },
     "metadata": {},
     "output_type": "display_data"
    }
   ],
   "source": [
    "# take second der, eval at flat pt, to find out if flat pt is min or max or none\n",
    "der2x = derx.diff(x)\n",
    "der2y = dery.diff(y)\n",
    "display(der2x,der2y)"
   ]
  },
  {
   "cell_type": "markdown",
   "metadata": {},
   "source": [
    "There we go! By solving the first gradient, we found a flat point (x=0,y=0). From the second dervitive we know that the change point is a min. Therefore the values (x=0, y=0) will minimize this function!"
   ]
  },
  {
   "cell_type": "markdown",
   "metadata": {},
   "source": [
    "Note: If derivitives are non linear, can use **sp.nonlinsolve**(list_of_non_lin_eqs,list_of_symbols_to_solve_for) to solve em!"
   ]
  },
  {
   "cell_type": "markdown",
   "metadata": {},
   "source": [
    "# scaler value multivariate function (with non linear derivitives)!"
   ]
  },
  {
   "cell_type": "code",
   "execution_count": 60,
   "metadata": {},
   "outputs": [
    {
     "data": {
      "application/vnd.jupyter.widget-view+json": {
       "model_id": "4b2d7eceab0f4f4e871e9ca5e93f9ca9",
       "version_major": 2,
       "version_minor": 0
      },
      "text/plain": [
       "FigureCanvasNbAgg()"
      ]
     },
     "metadata": {},
     "output_type": "display_data"
    },
    {
     "data": {
      "text/plain": [
       "<sympy.plotting.plot.Plot at 0x22dc79d9358>"
      ]
     },
     "execution_count": 60,
     "metadata": {},
     "output_type": "execute_result"
    }
   ],
   "source": [
    "# the relationship\n",
    "expr = x**4 + y**4\n",
    "plot3d(expr)"
   ]
  },
  {
   "cell_type": "code",
   "execution_count": 61,
   "metadata": {},
   "outputs": [
    {
     "data": {
      "image/png": "[encoded data removed]",
      "text/latex": [
       "$$4 x^{3}$$"
      ],
      "text/plain": [
       "   3\n",
       "4⋅x "
      ]
     },
     "metadata": {},
     "output_type": "display_data"
    },
    {
     "data": {
      "image/png": "[encoded data removed]",
      "text/latex": [
       "$$4 y^{3}$$"
      ],
      "text/plain": [
       "   3\n",
       "4⋅y "
      ]
     },
     "metadata": {},
     "output_type": "display_data"
    }
   ],
   "source": [
    "# take derivitives\n",
    "derx = expr.diff(x)\n",
    "dery = expr.diff(y)\n",
    "display(derx,dery)"
   ]
  },
  {
   "cell_type": "code",
   "execution_count": 62,
   "metadata": {},
   "outputs": [
    {
     "data": {
      "image/png": "[encoded data removed]",
      "text/latex": [
       "$$\\left\\{\\left ( 0, \\quad 0\\right )\\right\\}$$"
      ],
      "text/plain": [
       "{(0, 0)}"
      ]
     },
     "execution_count": 62,
     "metadata": {},
     "output_type": "execute_result"
    }
   ],
   "source": [
    "# solve (non linear) system\n",
    "sp.nonlinsolve([derx,dery],[x,y])"
   ]
  },
  {
   "cell_type": "code",
   "execution_count": 63,
   "metadata": {},
   "outputs": [
    {
     "data": {
      "image/png": "[encoded data removed]",
      "text/latex": [
       "$$12 x^{2}$$"
      ],
      "text/plain": [
       "    2\n",
       "12⋅x "
      ]
     },
     "metadata": {},
     "output_type": "display_data"
    },
    {
     "data": {
      "image/png": "[encoded data removed]",
      "text/latex": [
       "$$12 y^{2}$$"
      ],
      "text/plain": [
       "    2\n",
       "12⋅y "
      ]
     },
     "metadata": {},
     "output_type": "display_data"
    }
   ],
   "source": [
    "# use second derivitives to find out if change point is min or max\n",
    "der2x = derx.diff(x)\n",
    "der2y = dery.diff(y)\n",
    "display(der2x,der2y)"
   ]
  },
  {
   "cell_type": "markdown",
   "metadata": {},
   "source": [
    "So, we found a single flat point at (x=0,y=0) (by getting 1st derivatives, setting to 0, and solving system of eqs). How do we determine if this flat pt is a min or max or none?\n",
    "\n",
    "If we take evaluate the second derivative at our flat point, we get 0, which means that at this location, it's neither concave up nor down, it is an inflection point!\n",
    "\n",
    "To rule out an inflection point, we can test one pt to the left and one to the right of our change pt. If we are concaving down on one side and up on the other (or vice versa), then clearly we are at an inflection point. If concavity is the same on both sides, then no inflection point.\n",
    "\n",
    "So if we rule out inflection point, it can still be a min or max. How do we proceed!? We clearly can't use the second derivative test (since it gave us 0). We could take the first der on each side! If its pos on left side, then neg on right, then we know we are at max. Get it!?\n",
    "\n"
   ]
  },
  {
   "cell_type": "code",
   "execution_count": 64,
   "metadata": {},
   "outputs": [
    {
     "data": {
      "text/plain": [
       "'x'"
      ]
     },
     "metadata": {},
     "output_type": "display_data"
    },
    {
     "data": {
      "image/png": "[encoded data removed]",
      "text/latex": [
       "$$12$$"
      ],
      "text/plain": [
       "12"
      ]
     },
     "metadata": {},
     "output_type": "display_data"
    },
    {
     "data": {
      "image/png": "[encoded data removed]",
      "text/latex": [
       "$$12$$"
      ],
      "text/plain": [
       "12"
      ]
     },
     "metadata": {},
     "output_type": "display_data"
    },
    {
     "data": {
      "text/plain": [
       "'y'"
      ]
     },
     "metadata": {},
     "output_type": "display_data"
    },
    {
     "data": {
      "image/png": "[encoded data removed]",
      "text/latex": [
       "$$12$$"
      ],
      "text/plain": [
       "12"
      ]
     },
     "metadata": {},
     "output_type": "display_data"
    },
    {
     "data": {
      "image/png": "[encoded data removed]",
      "text/latex": [
       "$$12$$"
      ],
      "text/plain": [
       "12"
      ]
     },
     "metadata": {},
     "output_type": "display_data"
    }
   ],
   "source": [
    "leftx = der2x.subs(x,-1)\n",
    "rightx = der2x.subs(x,1)\n",
    "\n",
    "lefty = der2y.subs(y,-1)\n",
    "righty = der2y.subs(y,1)\n",
    "\n",
    "display(\"x\",leftx,rightx)\n",
    "display(\"y\",lefty,righty)"
   ]
  },
  {
   "cell_type": "markdown",
   "metadata": {},
   "source": [
    "Ok, so on both left and right (on both planes), we have concave up, which means we are at a min!\n",
    "Thus (0,0) is a min for this function!"
   ]
  },
  {
   "cell_type": "markdown",
   "metadata": {},
   "source": [
    "# scaler valued univariate with substitutable constraint"
   ]
  },
  {
   "cell_type": "code",
   "execution_count": 65,
   "metadata": {},
   "outputs": [
    {
     "data": {
      "image/png": "[encoded data removed]",
      "text/latex": [
       "$$\\left\\{\\frac{5}{2}\\right\\}$$"
      ],
      "text/plain": [
       "{5/2}"
      ]
     },
     "execution_count": 65,
     "metadata": {},
     "output_type": "execute_result"
    }
   ],
   "source": [
    "# classical problem, given fixed P, maximize A\n",
    "# know A = L * W\n",
    "# know P = 2L + 2W\n",
    "# ...so W = (P - 2L / 2)\n",
    "# know A = L ((P - 2L) / 2), P is constant, L is variable, what value of L gives us biggest A?\n",
    "L = sp.symbols('L')\n",
    "expr = L * (10-2*L) / 2\n",
    "sp.solveset(expr.diff(L))"
   ]
  },
  {
   "cell_type": "markdown",
   "metadata": {},
   "source": [
    "# More complex cases"
   ]
  },
  {
   "cell_type": "markdown",
   "metadata": {},
   "source": [
    "## constrained optimization (non substitutable cases)"
   ]
  },
  {
   "cell_type": "markdown",
   "metadata": {},
   "source": [
    "- Have only equality constraints? Use method of lagrange multipliers to solve!\n",
    "- Have some inequality constraints?\n",
    "    - Are all equations (objective and constraints) linear? If so, use linear programming.\n",
    "    - Is the objective function quadratic (but constraints still linear)? If so, can use quadratic programming.\n",
    "- Do inputs have to be integers? Use integer programming (can be integer linear programming or integer quadratic programming depending on objective function)."
   ]
  },
  {
   "cell_type": "markdown",
   "metadata": {},
   "source": [
    "## vector valued function...more complex but doable\n",
    "Look up vector optimization, hard problem, but well studied. Lots of solutions exist for specific cases! Google!"
   ]
  },
  {
   "cell_type": "markdown",
   "metadata": {},
   "source": [
    "# final notes\n",
    "\n",
    "There are tons of different objective functions and tons of different types of constraints, but for most cases solutions for finding the local minima do exist. Finding a global minima is a much harder problem!"
   ]
  }
 ],
 "metadata": {
  "kernelspec": {
   "display_name": "Python 3",
   "language": "python",
   "name": "python3"
  },
  "language_info": {
   "codemirror_mode": {
    "name": "ipython",
    "version": 3
   },
   "file_extension": ".py",
   "mimetype": "text/x-python",
   "name": "python",
   "nbconvert_exporter": "python",
   "pygments_lexer": "ipython3",
   "version": "3.7.1"
  }
 },
 "nbformat": 4,
 "nbformat_minor": 2
}
